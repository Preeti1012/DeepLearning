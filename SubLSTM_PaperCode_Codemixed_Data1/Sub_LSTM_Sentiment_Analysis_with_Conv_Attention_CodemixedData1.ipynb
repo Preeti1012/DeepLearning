{
 "cells": [
  {
   "cell_type": "code",
   "execution_count": 13,
   "metadata": {
    "id": "z3CL6mmqZ4wp"
   },
   "outputs": [],
   "source": [
    "import numpy as np\n",
    "import h5py\n",
    "import pickle\n",
    "import tensorflow as tf\n",
    "from copy import deepcopy\n",
    "from sklearn.metrics import confusion_matrix\n",
    "from sklearn.model_selection import train_test_split\n",
    "from keras.preprocessing import sequence\n",
    "from keras.utils import np_utils\n",
    "import tensorflow.keras as keras\n",
    "from tensorflow.keras.preprocessing.text import Tokenizer\n",
    "from tensorflow.keras.preprocessing.sequence import pad_sequences\n",
    "from tensorflow.keras.layers import Concatenate, Dense, Input, LSTM, Embedding, Dropout, Activation, GRU, Flatten\n",
    "from tensorflow.keras.layers import Bidirectional, GlobalMaxPool1D\n",
    "from tensorflow.keras.models import Model, Sequential\n",
    "from tensorflow.keras.layers import Convolution1D\n",
    "from tensorflow.keras import initializers, regularizers, constraints, optimizers, layers"
   ]
  },
  {
   "cell_type": "code",
   "execution_count": 2,
   "metadata": {
    "id": "f6eJJUPQZsGZ"
   },
   "outputs": [],
   "source": [
    "import re\n",
    "def token(sentence, remove_vowels=False, remove_repeat=False, minchars=2):\n",
    "    tokens = []\n",
    "#   for t in re.findall(\"[A-Z]{2,}(?![a-z])|[A-Z][a-z]+(?=[A-Z])|[\\w]+\",sentence.lower()):\n",
    "    for t in re.findall(\"[a-zA-Z]+\",sentence.lower()):\n",
    "\n",
    "        if len(t)>=minchars:\n",
    "            if remove_vowels:\n",
    "                t=removeVovels(t)\n",
    "            if remove_repeat:\n",
    "                t=removeRepeat(t)\n",
    "            tokens.append(t)\n",
    "    return tokens\n",
    "\n",
    "VOWELS = ['a', 'e', 'i', 'o', 'u']\n",
    "\n",
    "def removeRepeat(string):\n",
    "    return re.sub(r'(.)\\1+', r'\\1\\1', string)     \n",
    "\n",
    "def removeVovels(string):\n",
    "    return ''.join([l for l in string.lower() if l not in VOWELS])\n",
    "\n",
    "# if __name__ == '__main__':\n",
    "#     pass\n",
    "\n",
    "def normalize_matrix(matrix):\n",
    "    pass"
   ]
  },
  {
   "cell_type": "code",
   "execution_count": 3,
   "metadata": {
    "id": "43W0aC_YZ7o3"
   },
   "outputs": [],
   "source": [
    "SEPERATOR = '\\t'\n",
    "DATA_COLUMN = 1\n",
    "LABEL_COLUMN = 3\n",
    "LABELS = ['0','1','2'] # 0 -> Negative, 1-> Neutral, 2-> Positive\n",
    "mapping_char2num = {}\n",
    "mapping_num2char = {}\n",
    "MAXLEN = 200\n",
    "\n",
    "#LSTM Model Parameters\n",
    "#Embedding\n",
    "MAX_FEATURES = 0\n",
    "embedding_size = 128\n",
    "# Convolution\n",
    "filter_length = 3\n",
    "nb_filter = 128\n",
    "pool_length = 3\n",
    "# LSTM\n",
    "lstm_output_size = 128\n",
    "# Training\n",
    "batch_size = 128\n",
    "number_of_epochs = 50\n",
    "numclasses = 3\n",
    "test_size = 0.2"
   ]
  },
  {
   "cell_type": "code",
   "execution_count": 4,
   "metadata": {
    "id": "Y5EG-FicaEKI"
   },
   "outputs": [],
   "source": [
    "def parse(seperator,datacol,labelcol,labels):\n",
    "    \"\"\"\n",
    "    Purpose -> Data I/O\n",
    "    Input   -> Data file containing sentences and labels along with the global variables\n",
    "    Output  -> Sentences cleaned up in list of lists format along with the labels as a numpy array\n",
    "    \"\"\"\n",
    "    #Reads the files and splits data into individual lines\n",
    "    f=open('Codemixed.txt','r', encoding='utf-8')\n",
    "    lines = f.read()\n",
    "    lines = lines.lower().split('\\n')[:-1]\n",
    "\n",
    "    X_train = []\n",
    "    Y_train = []\n",
    "    \n",
    "    #Processes individual lines\n",
    "    for line in lines:\n",
    "        # Seperator for the current dataset. Currently '\\t'. \n",
    "        line = line.split(seperator)\n",
    "        #Token is the function which implements basic preprocessing as mentioned in our paper\n",
    "        tokenized_lines = token(line[datacol])\n",
    "    \n",
    "        #Creates character lists\n",
    "        char_list = []\n",
    "        for words in tokenized_lines:\n",
    "            for char in words:\n",
    "                char_list.append(char)\n",
    "            char_list.append(' ')\n",
    "        #print(char_list) - Debugs the character list created\n",
    "        X_train.append(char_list)\n",
    "    \n",
    "        #Appends labels\n",
    "        if line[labelcol] == labels[0]:\n",
    "            Y_train.append(0)\n",
    "        if line[labelcol] == labels[1]:\n",
    "            Y_train.append(1)\n",
    "        if line[labelcol] == labels[2]:\n",
    "            Y_train.append(2)\n",
    "    \n",
    "    #Converts Y_train to a numpy array\t\n",
    "    Y_train = np.asarray(Y_train)\n",
    "    assert(len(X_train) == Y_train.shape[0])\n",
    "\n",
    "    return [X_train,Y_train]"
   ]
  },
  {
   "cell_type": "code",
   "execution_count": 5,
   "metadata": {
    "id": "yzzYBwY7ato_"
   },
   "outputs": [],
   "source": [
    "def convert_char2num(mapping_n2c,mapping_c2n,trainwords,maxlen):\n",
    "    \"\"\"\n",
    "    Purpose -> Convert characters to integers, a unique value for every character\n",
    "    Input   -> Training data (In list of lists format) along with global variables\n",
    "    Output  -> Converted training data along with global variables\n",
    "    \"\"\"\n",
    "    allchars = []\n",
    "    errors = 0\n",
    "\n",
    "    #Creates a list of all characters present in the dataset\n",
    "    for line in trainwords:\n",
    "        try:\n",
    "            allchars = set(allchars+line)\n",
    "            allchars = list(allchars)\n",
    "        except:\n",
    "            errors += 1\n",
    "\n",
    "    #print(errors) #Debugging\n",
    "    #print(allchars) #Debugging \n",
    "\n",
    "    #Creates character dictionaries for the characters\n",
    "    charno = 0\n",
    "    for char in allchars:\n",
    "        mapping_char2num[char] = charno\n",
    "        mapping_num2char[charno] = char\n",
    "        charno += 1\n",
    "\n",
    "    assert(len(allchars)==charno) #Checks\n",
    "\n",
    "    #Converts the data from characters to numbers using dictionaries \n",
    "    X_train = []\n",
    "    for line in trainwords:\n",
    "        char_list=[]\n",
    "        for letter in line:\n",
    "            char_list.append(mapping_char2num[letter])\n",
    "        #print(no) -- Debugs the number mappings\n",
    "        X_train.append(char_list)\n",
    "    print(mapping_char2num)\n",
    "    print(mapping_num2char)\n",
    "    #Pads the X_train to get a uniform vector\n",
    "    #TODO: Automate the selection instead of manual input\n",
    "    X_train = sequence.pad_sequences(X_train[:], maxlen=maxlen)\n",
    "    return [X_train,mapping_num2char,mapping_char2num,charno]"
   ]
  },
  {
   "cell_type": "code",
   "execution_count": 6,
   "metadata": {
    "id": "bjDBv2hna0gH"
   },
   "outputs": [],
   "source": [
    "def RNN(X_train,y_train,args):\n",
    "    \"\"\"\n",
    "    Purpose -> Define and train the proposed LSTM network\n",
    "    Input   -> Data, Labels and model hyperparameters\n",
    "    Output  -> Trained LSTM network\n",
    "    \"\"\"\n",
    "    #Sets the model hyperparameters\n",
    "    #Embedding hyperparameters\n",
    "    max_features = args[0]\n",
    "    maxlen = args[1]\n",
    "    embedding_size = args[2]\n",
    "    # Convolution hyperparameters\n",
    "    filter_length = args[3]\n",
    "    nb_filter = args[4]\n",
    "    pool_length = args[5]\n",
    "    # LSTM hyperparameters\n",
    "    lstm_output_size = args[6]\n",
    "    # Training hyperparameters\n",
    "    batch_size = args[7]\n",
    "    nb_epoch = args[8]\n",
    "    numclasses = args[9]\n",
    "    test_size = args[10] \n",
    "\n",
    "    #Format conversion for y_train for compatibility with Keras\n",
    "    y_train = np_utils.to_categorical(y_train, numclasses) \n",
    "    #Train & Validation data splitting\n",
    "    X_train, X_valid, y_train, y_valid = train_test_split(X_train, y_train, test_size=test_size, random_state=42)\n",
    "    \n",
    "    #Build the sequential model\n",
    "    # Model Architecture is:\n",
    "    # Input -> Embedding -> Conv1D+Maxpool1D -> LSTM -> LSTM -> FC-1 -> Softmaxloss\n",
    "    print('Build model...')\n",
    "    model = Sequential()\n",
    "    model.add(Embedding(max_features, embedding_size, input_length=maxlen))\n",
    "    # model.add(Convolution1D(nb_filter=nb_filter,\n",
    "    #filter_length=filter_length,\n",
    "    #activation='relu',\n",
    "    #subsample_length=1))\n",
    "    # model.add(MaxPooling1D(pool_length=pool_length))\n",
    "    model.add(LSTM(lstm_output_size, dropout_W=0.2, dropout_U=0.2, return_sequences=True))\n",
    "    model.add(LSTM(lstm_output_size, dropout_W=0.2, dropout_U=0.2, return_sequences=False))\n",
    "    model.add(Dense(numclasses))\n",
    "    model.add(Activation('softmax'))\n",
    "\n",
    "    # Optimizer is Adamax along with categorical crossentropy loss\n",
    "    model.compile(loss='categorical_crossentropy',\n",
    "                optimizer='adamax',\n",
    "                metrics=['accuracy'])\n",
    "\n",
    "\n",
    "    print('Train...')\n",
    "    #Trains model for 50 epochs with shuffling after every epoch for training data and validates on validation data\n",
    "    model.fit(X_train, y_train, \n",
    "              batch_size=batch_size, \n",
    "              shuffle=True, \n",
    "              nb_epoch=nb_epoch,\n",
    "              validation_data=(X_valid, y_valid))\n",
    "    return model"
   ]
  },
  {
   "cell_type": "code",
   "execution_count": 7,
   "metadata": {
    "colab": {
     "base_uri": "https://localhost:8080/",
     "height": 100
    },
    "id": "BtnjLQpRipiP",
    "outputId": "ec6c9a28-5178-4a67-d450-16e8aae4f7ed"
   },
   "outputs": [
    {
     "name": "stdout",
     "output_type": "stream",
     "text": [
      "Starting RNN Engine...\n",
      "Model: Char-level LSTM.\n",
      "Parsing data files...\n",
      "Parsing complete!\n",
      "Creating character dictionaries and format conversion in progess...\n"
     ]
    }
   ],
   "source": [
    "if __name__ == '__main__':\n",
    "    \"\"\"\n",
    "    Master function\n",
    "    \"\"\"\n",
    "    print('Starting RNN Engine...\\nModel: Char-level LSTM.\\nParsing data files...')\n",
    "    out = parse(SEPERATOR,DATA_COLUMN,LABEL_COLUMN,LABELS)\n",
    "    X_train = out[0]\n",
    "    y_train = out[1]\n",
    "    print('Parsing complete!')\n",
    "\n",
    "    print('Creating character dictionaries and format conversion in progess...')\n"
   ]
  },
  {
   "cell_type": "code",
   "execution_count": 8,
   "metadata": {
    "colab": {
     "base_uri": "https://localhost:8080/",
     "height": 137
    },
    "id": "AAdO4ZdFbjPj",
    "outputId": "ba6c9e10-c6c0-4167-f7ff-8e4ce9666c5a"
   },
   "outputs": [
    {
     "name": "stdout",
     "output_type": "stream",
     "text": [
      "{'s': 0, 't': 1, ' ': 2, 'r': 3, 'e': 4, 'f': 5, 'j': 6, 'h': 7, 'i': 8, 'o': 9, 'p': 10, 'w': 11, 'm': 12, 'd': 13, 'x': 14, 'q': 15, 'g': 16, 'b': 17, 'k': 18, 'a': 19, 'u': 20, 'y': 21, 'v': 22, 'n': 23, 'l': 24, 'c': 25, 'z': 26}\n",
      "{0: 's', 1: 't', 2: ' ', 3: 'r', 4: 'e', 5: 'f', 6: 'j', 7: 'h', 8: 'i', 9: 'o', 10: 'p', 11: 'w', 12: 'm', 13: 'd', 14: 'x', 15: 'q', 16: 'g', 17: 'b', 18: 'k', 19: 'a', 20: 'u', 21: 'y', 22: 'v', 23: 'n', 24: 'l', 25: 'c', 26: 'z'}\n",
      "Complete!\n",
      "Splitting data into train and test...\n",
      "X_train shape: (3103, 200)\n",
      "X_test shape: (776, 200)\n"
     ]
    }
   ],
   "source": [
    "out = convert_char2num(mapping_num2char,mapping_char2num,X_train,MAXLEN)\n",
    "mapping_num2char = out[1]\n",
    "mapping_char2num = out[2]\n",
    "MAX_FEATURES = out[3]\n",
    "X_train = np.asarray(out[0])\n",
    "y_train = np.asarray(y_train).flatten()\n",
    "print('Complete!')\n",
    "\n",
    "print('Splitting data into train and test...')\n",
    "X_train, X_test, y_train, y_test = train_test_split(X_train, y_train, test_size=0.2, random_state=42)\n",
    "print('X_train shape:', X_train.shape)\n",
    "print('X_test shape:', X_test.shape)\n",
    "\n"
   ]
  },
  {
   "cell_type": "code",
   "execution_count": 9,
   "metadata": {
    "id": "aLK5zN6C5BC6"
   },
   "outputs": [],
   "source": [
    "y_train = np_utils.to_categorical(y_train ,numclasses) "
   ]
  },
  {
   "cell_type": "code",
   "execution_count": 10,
   "metadata": {
    "id": "ZQi_HgusgFpp"
   },
   "outputs": [],
   "source": [
    "\n",
    "#Train & Validation data splitting\n",
    "X_train, X_valid, y_train, y_valid = train_test_split(X_train, y_train, test_size=test_size)"
   ]
  },
  {
   "cell_type": "code",
   "execution_count": 11,
   "metadata": {
    "id": "xf4QVkQQMXcp"
   },
   "outputs": [],
   "source": [
    "# # define model\n",
    "# model = Sequential()\n",
    "# model.add(Embedding(embedding_dim, 100, input_length=max_length))\n",
    "# model.add(Conv1D(filters=32, kernel_size=8, activation='relu'))\n",
    "# model.add(MaxPooling1D(pool_size=2))\n",
    "# model.add(Flatten())\n",
    "# model.add(Dense(10, activation='relu'))\n",
    "# model.add(Dense(3, activation='sigmoid'))"
   ]
  },
  {
   "cell_type": "code",
   "execution_count": 17,
   "metadata": {},
   "outputs": [],
   "source": [
    "class Attention(tf.keras.Model):\n",
    "    def __init__(self, units):\n",
    "        super(Attention, self).__init__()\n",
    "        self.W1 = tf.keras.layers.Dense(units)\n",
    "        self.W2 = tf.keras.layers.Dense(units)\n",
    "        self.V = tf.keras.layers.Dense(1)\n",
    " \n",
    "    def call(self, features, hidden):\n",
    "        # hidden shape == (batch_size, hidden size)\n",
    "        # hidden_with_time_axis shape == (batch_size, 1, hidden size)\n",
    "        # we are doing this to perform addition to calculate the score\n",
    "        hidden_with_time_axis = tf.expand_dims(hidden, 1)\n",
    "\n",
    "        # score shape == (batch_size, max_length, 1)\n",
    "        # we get 1 at the last axis because we are applying score to self.V\n",
    "        # the shape of the tensor before applying self.V is (batch_size, max_length, units)\n",
    "        score = tf.nn.tanh(\n",
    "            self.W1(features) + self.W2(hidden_with_time_axis))\n",
    "        \n",
    "        # attention_weights shape == (batch_size, max_length, 1)\n",
    "        attention_weights = tf.nn.softmax(self.V(score), axis=1)\n",
    "\n",
    "        # context_vector shape after sum == (batch_size, hidden_size)\n",
    "        context_vector = attention_weights * features\n",
    "        context_vector = tf.reduce_sum(context_vector, axis=1)\n",
    " \n",
    "        return context_vector, attention_weights"
   ]
  },
  {
   "cell_type": "code",
   "execution_count": 18,
   "metadata": {},
   "outputs": [],
   "source": [
    "RNN_CELL_SIZE = 128\n",
    "sequence_input = Input(shape=(MAXLEN,), dtype=\"int32\")\n",
    "embedded_sequences = Embedding(27, embedding_size, input_length=MAXLEN)(sequence_input)\n",
    "conv1 =  Convolution1D(filters=128,kernel_size=3,\n",
    "                            padding='valid',\n",
    "                            activation='relu',\n",
    "                            dilation_rate=1)(embedded_sequences)\n",
    "conv2 = Convolution1D(filters=128,kernel_size=3,\n",
    "                            padding='valid',\n",
    "                            activation='relu',\n",
    "                            dilation_rate=1)(conv1)\n",
    "# pool = MaxPooling1D(pool_size=2)(conv2)\n",
    "# flat = Flatten()(conv2)\n",
    "lstm = Bidirectional(LSTM(RNN_CELL_SIZE, return_sequences = True), name=\"bi_lstm_0\")(conv2)\n",
    "# Getting our LSTM outputs\n",
    "(lstm, forward_h, forward_c, backward_h, backward_c) = Bidirectional(LSTM(RNN_CELL_SIZE, return_sequences=True, return_state=True), name=\"bi_lstm_1\")(lstm)\n",
    "\n",
    "state_h = Concatenate()([forward_h, backward_h])\n",
    "state_c = Concatenate()([forward_c, backward_c])\n",
    "\n",
    "context_vector, attention_weights = Attention(10)(lstm, state_h)\n",
    "dense1 = Dense(32, activation=\"relu\")(context_vector)\n",
    "dropout = Dropout(0.4)(dense1)\n",
    "output = Dense(3, activation=\"softmax\")(dropout)\n",
    "\n",
    "model = keras.Model(inputs=sequence_input, outputs=output)"
   ]
  },
  {
   "cell_type": "code",
   "execution_count": 19,
   "metadata": {
    "colab": {
     "base_uri": "https://localhost:8080/",
     "height": 435
    },
    "id": "CFjd4PoNNrHj",
    "outputId": "eae9526a-cdcc-4678-9b06-e08f5e208490"
   },
   "outputs": [
    {
     "name": "stdout",
     "output_type": "stream",
     "text": [
      "__________________________________________________________________________________________________\n",
      "Layer (type)                    Output Shape         Param #     Connected to                     \n",
      "==================================================================================================\n",
      "input_4 (InputLayer)            (None, 200)          0                                            \n",
      "__________________________________________________________________________________________________\n",
      "embedding_3 (Embedding)         (None, 200, 128)     3456        input_4[0][0]                    \n",
      "__________________________________________________________________________________________________\n",
      "conv1d_6 (Conv1D)               (None, 198, 128)     49280       embedding_3[0][0]                \n",
      "__________________________________________________________________________________________________\n",
      "conv1d_7 (Conv1D)               (None, 196, 128)     49280       conv1d_6[0][0]                   \n",
      "__________________________________________________________________________________________________\n",
      "bi_lstm_0 (Bidirectional)       (None, 196, 256)     263168      conv1d_7[0][0]                   \n",
      "__________________________________________________________________________________________________\n",
      "bi_lstm_1 (Bidirectional)       [(None, 196, 256), ( 394240      bi_lstm_0[0][0]                  \n",
      "__________________________________________________________________________________________________\n",
      "concatenate_2 (Concatenate)     (None, 256)          0           bi_lstm_1[0][1]                  \n",
      "                                                                 bi_lstm_1[0][3]                  \n",
      "__________________________________________________________________________________________________\n",
      "attention (Attention)           [(None, 256), (None, 5151        bi_lstm_1[0][0]                  \n",
      "                                                                 concatenate_2[0][0]              \n",
      "__________________________________________________________________________________________________\n",
      "dense_3 (Dense)                 (None, 32)           8224        attention[0][0]                  \n",
      "__________________________________________________________________________________________________\n",
      "dropout (Dropout)               (None, 32)           0           dense_3[0][0]                    \n",
      "__________________________________________________________________________________________________\n",
      "dense_4 (Dense)                 (None, 3)            99          dropout[0][0]                    \n",
      "==================================================================================================\n",
      "Total params: 772,898\n",
      "Trainable params: 772,898\n",
      "Non-trainable params: 0\n",
      "__________________________________________________________________________________________________\n",
      "None\n"
     ]
    }
   ],
   "source": [
    "print(model.summary())"
   ]
  },
  {
   "cell_type": "code",
   "execution_count": 20,
   "metadata": {
    "id": "fuMEhGWPz3p0"
   },
   "outputs": [],
   "source": [
    "opt=keras.optimizers.Adam(0.001)\n",
    "model.compile(loss='categorical_crossentropy',\n",
    "        optimizer=opt,\n",
    "        metrics=['accuracy'])"
   ]
  },
  {
   "cell_type": "code",
   "execution_count": 21,
   "metadata": {
    "colab": {
     "base_uri": "https://localhost:8080/",
     "height": 1000
    },
    "id": "gN0QHppH0AIF",
    "outputId": "c0a09274-9df7-46e0-c1fa-85d0b973ae3a"
   },
   "outputs": [
    {
     "name": "stdout",
     "output_type": "stream",
     "text": [
      "Train...\n"
     ]
    },
    {
     "name": "stderr",
     "output_type": "stream",
     "text": [
      "C:\\ProgramData\\Anaconda3\\lib\\site-packages\\tensorflow\\python\\ops\\gradients_impl.py:112: UserWarning: Converting sparse IndexedSlices to a dense Tensor of unknown shape. This may consume a large amount of memory.\n",
      "  \"Converting sparse IndexedSlices to a dense Tensor of unknown shape. \"\n"
     ]
    },
    {
     "name": "stdout",
     "output_type": "stream",
     "text": [
      "Train on 2482 samples, validate on 621 samples\n",
      "Epoch 1/50\n",
      "2482/2482 [==============================] - 491s 198ms/step - loss: 1.0249 - acc: 0.4670 - val_loss: 0.9698 - val_acc: 0.5233\n",
      "Epoch 2/50\n",
      "2482/2482 [==============================] - 462s 186ms/step - loss: 1.0021 - acc: 0.4927 - val_loss: 0.9635 - val_acc: 0.5250\n",
      "Epoch 3/50\n",
      "2482/2482 [==============================] - 514s 207ms/step - loss: 0.9767 - acc: 0.4919 - val_loss: 0.9565 - val_acc: 0.5056\n",
      "Epoch 4/50\n",
      "2482/2482 [==============================] - 686s 277ms/step - loss: 0.9500 - acc: 0.5423 - val_loss: 0.9133 - val_acc: 0.5652\n",
      "Epoch 5/50\n",
      "2482/2482 [==============================] - 690s 278ms/step - loss: 0.9396 - acc: 0.5463 - val_loss: 0.9131 - val_acc: 0.5475\n",
      "Epoch 6/50\n",
      "2482/2482 [==============================] - 838s 338ms/step - loss: 0.9123 - acc: 0.5745 - val_loss: 0.9432 - val_acc: 0.5233\n",
      "Epoch 7/50\n",
      "2482/2482 [==============================] - 998s 402ms/step - loss: 0.9130 - acc: 0.5802 - val_loss: 0.9298 - val_acc: 0.5298\n",
      "Epoch 8/50\n",
      "2482/2482 [==============================] - 901s 363ms/step - loss: 0.8904 - acc: 0.6023 - val_loss: 0.8937 - val_acc: 0.5974\n",
      "Epoch 9/50\n",
      "2482/2482 [==============================] - 901s 363ms/step - loss: 0.8838 - acc: 0.5927 - val_loss: 0.8907 - val_acc: 0.5668\n",
      "Epoch 10/50\n",
      "2482/2482 [==============================] - 1010s 407ms/step - loss: 0.8391 - acc: 0.6249 - val_loss: 0.8633 - val_acc: 0.6167\n",
      "Epoch 11/50\n",
      "2482/2482 [==============================] - 1074s 433ms/step - loss: 0.8252 - acc: 0.6414 - val_loss: 0.8769 - val_acc: 0.5878\n",
      "Epoch 12/50\n",
      "2482/2482 [==============================] - 1108s 446ms/step - loss: 0.7847 - acc: 0.6579 - val_loss: 0.8844 - val_acc: 0.5878\n",
      "Epoch 13/50\n",
      "2482/2482 [==============================] - 682s 275ms/step - loss: 0.8089 - acc: 0.6414 - val_loss: 0.8366 - val_acc: 0.6087\n",
      "Epoch 14/50\n",
      "2482/2482 [==============================] - 665s 268ms/step - loss: 0.7729 - acc: 0.6728 - val_loss: 0.8483 - val_acc: 0.6071\n",
      "Epoch 15/50\n",
      "2482/2482 [==============================] - 772s 311ms/step - loss: 0.7202 - acc: 0.6946 - val_loss: 0.9595 - val_acc: 0.5620\n",
      "Epoch 16/50\n",
      "2482/2482 [==============================] - 913s 368ms/step - loss: 0.6836 - acc: 0.7168 - val_loss: 0.8412 - val_acc: 0.6216\n",
      "Epoch 17/50\n",
      "2482/2482 [==============================] - 693s 279ms/step - loss: 0.7374 - acc: 0.7063 - val_loss: 0.8534 - val_acc: 0.6312\n",
      "Epoch 18/50\n",
      "2482/2482 [==============================] - 724s 292ms/step - loss: 0.6673 - acc: 0.7329 - val_loss: 0.8568 - val_acc: 0.6151\n",
      "Epoch 19/50\n",
      "2482/2482 [==============================] - 725s 292ms/step - loss: 0.6227 - acc: 0.7421 - val_loss: 0.8965 - val_acc: 0.6103\n",
      "Epoch 20/50\n",
      "2482/2482 [==============================] - 853s 344ms/step - loss: 0.5720 - acc: 0.7619 - val_loss: 0.9036 - val_acc: 0.6135\n",
      "Epoch 21/50\n",
      "2482/2482 [==============================] - 800s 322ms/step - loss: 0.5635 - acc: 0.7800 - val_loss: 0.8677 - val_acc: 0.6506\n",
      "Epoch 22/50\n",
      "2482/2482 [==============================] - 759s 306ms/step - loss: 0.5879 - acc: 0.7579 - val_loss: 0.8145 - val_acc: 0.6506\n",
      "Epoch 23/50\n",
      "2482/2482 [==============================] - 766s 309ms/step - loss: 0.5409 - acc: 0.7893 - val_loss: 0.8893 - val_acc: 0.6312\n",
      "Epoch 24/50\n",
      "2482/2482 [==============================] - 794s 320ms/step - loss: 0.4934 - acc: 0.8038 - val_loss: 0.8618 - val_acc: 0.6538\n",
      "Epoch 25/50\n",
      "2482/2482 [==============================] - 26877s 11s/step - loss: 0.4439 - acc: 0.8255 - val_loss: 1.0261 - val_acc: 0.5974\n",
      "Epoch 26/50\n",
      "2482/2482 [==============================] - 788s 317ms/step - loss: 0.4774 - acc: 0.8054 - val_loss: 1.0182 - val_acc: 0.6039\n",
      "Epoch 27/50\n",
      "2482/2482 [==============================] - 758s 305ms/step - loss: 0.4057 - acc: 0.8388 - val_loss: 1.0327 - val_acc: 0.6006\n",
      "Epoch 28/50\n",
      "2482/2482 [==============================] - 756s 305ms/step - loss: 0.4134 - acc: 0.8352 - val_loss: 1.0315 - val_acc: 0.6103\n",
      "Epoch 29/50\n",
      "2482/2482 [==============================] - 833s 336ms/step - loss: 0.3896 - acc: 0.8449 - val_loss: 1.1055 - val_acc: 0.6103\n",
      "Epoch 30/50\n",
      "2482/2482 [==============================] - 789s 318ms/step - loss: 0.3641 - acc: 0.8646 - val_loss: 0.9838 - val_acc: 0.6264\n",
      "Epoch 31/50\n",
      "2482/2482 [==============================] - 760s 306ms/step - loss: 0.3360 - acc: 0.8803 - val_loss: 1.1674 - val_acc: 0.5845\n",
      "Epoch 32/50\n",
      "2482/2482 [==============================] - 781s 315ms/step - loss: 0.3142 - acc: 0.8783 - val_loss: 1.2406 - val_acc: 0.6393\n",
      "Epoch 33/50\n",
      "2482/2482 [==============================] - 837s 337ms/step - loss: 0.4152 - acc: 0.8497 - val_loss: 1.0717 - val_acc: 0.6087\n",
      "Epoch 34/50\n",
      "2482/2482 [==============================] - 799s 322ms/step - loss: 0.2986 - acc: 0.8940 - val_loss: 1.2137 - val_acc: 0.6264\n",
      "Epoch 35/50\n",
      "2482/2482 [==============================] - 772s 311ms/step - loss: 0.2470 - acc: 0.9126 - val_loss: 1.2538 - val_acc: 0.6441\n",
      "Epoch 36/50\n"
     ]
    },
    {
     "ename": "KeyboardInterrupt",
     "evalue": "",
     "output_type": "error",
     "traceback": [
      "\u001b[1;31m---------------------------------------------------------------------------\u001b[0m",
      "\u001b[1;31mKeyboardInterrupt\u001b[0m                         Traceback (most recent call last)",
      "\u001b[1;32m<ipython-input-21-ea28049089cb>\u001b[0m in \u001b[0;36m<module>\u001b[1;34m()\u001b[0m\n\u001b[0;32m      5\u001b[0m           \u001b[0mshuffle\u001b[0m\u001b[1;33m=\u001b[0m\u001b[1;32mTrue\u001b[0m\u001b[1;33m,\u001b[0m\u001b[1;33m\u001b[0m\u001b[0m\n\u001b[0;32m      6\u001b[0m           \u001b[0mepochs\u001b[0m\u001b[1;33m=\u001b[0m\u001b[1;36m50\u001b[0m\u001b[1;33m,\u001b[0m\u001b[1;33m\u001b[0m\u001b[0m\n\u001b[1;32m----> 7\u001b[1;33m           validation_data=(X_valid, y_valid))\n\u001b[0m",
      "\u001b[1;32mC:\\ProgramData\\Anaconda3\\lib\\site-packages\\tensorflow\\python\\keras\\engine\\training.py\u001b[0m in \u001b[0;36mfit\u001b[1;34m(self, x, y, batch_size, epochs, verbose, callbacks, validation_split, validation_data, shuffle, class_weight, sample_weight, initial_epoch, steps_per_epoch, validation_steps, max_queue_size, workers, use_multiprocessing, **kwargs)\u001b[0m\n\u001b[0;32m   1637\u001b[0m           \u001b[0minitial_epoch\u001b[0m\u001b[1;33m=\u001b[0m\u001b[0minitial_epoch\u001b[0m\u001b[1;33m,\u001b[0m\u001b[1;33m\u001b[0m\u001b[0m\n\u001b[0;32m   1638\u001b[0m           \u001b[0msteps_per_epoch\u001b[0m\u001b[1;33m=\u001b[0m\u001b[0msteps_per_epoch\u001b[0m\u001b[1;33m,\u001b[0m\u001b[1;33m\u001b[0m\u001b[0m\n\u001b[1;32m-> 1639\u001b[1;33m           validation_steps=validation_steps)\n\u001b[0m\u001b[0;32m   1640\u001b[0m \u001b[1;33m\u001b[0m\u001b[0m\n\u001b[0;32m   1641\u001b[0m   def evaluate(self,\n",
      "\u001b[1;32mC:\\ProgramData\\Anaconda3\\lib\\site-packages\\tensorflow\\python\\keras\\engine\\training_arrays.py\u001b[0m in \u001b[0;36mfit_loop\u001b[1;34m(model, inputs, targets, sample_weights, batch_size, epochs, verbose, callbacks, val_inputs, val_targets, val_sample_weights, shuffle, initial_epoch, steps_per_epoch, validation_steps)\u001b[0m\n\u001b[0;32m    213\u001b[0m           \u001b[0mins_batch\u001b[0m\u001b[1;33m[\u001b[0m\u001b[0mi\u001b[0m\u001b[1;33m]\u001b[0m \u001b[1;33m=\u001b[0m \u001b[0mins_batch\u001b[0m\u001b[1;33m[\u001b[0m\u001b[0mi\u001b[0m\u001b[1;33m]\u001b[0m\u001b[1;33m.\u001b[0m\u001b[0mtoarray\u001b[0m\u001b[1;33m(\u001b[0m\u001b[1;33m)\u001b[0m\u001b[1;33m\u001b[0m\u001b[0m\n\u001b[0;32m    214\u001b[0m \u001b[1;33m\u001b[0m\u001b[0m\n\u001b[1;32m--> 215\u001b[1;33m         \u001b[0mouts\u001b[0m \u001b[1;33m=\u001b[0m \u001b[0mf\u001b[0m\u001b[1;33m(\u001b[0m\u001b[0mins_batch\u001b[0m\u001b[1;33m)\u001b[0m\u001b[1;33m\u001b[0m\u001b[0m\n\u001b[0m\u001b[0;32m    216\u001b[0m         \u001b[1;32mif\u001b[0m \u001b[1;32mnot\u001b[0m \u001b[0misinstance\u001b[0m\u001b[1;33m(\u001b[0m\u001b[0mouts\u001b[0m\u001b[1;33m,\u001b[0m \u001b[0mlist\u001b[0m\u001b[1;33m)\u001b[0m\u001b[1;33m:\u001b[0m\u001b[1;33m\u001b[0m\u001b[0m\n\u001b[0;32m    217\u001b[0m           \u001b[0mouts\u001b[0m \u001b[1;33m=\u001b[0m \u001b[1;33m[\u001b[0m\u001b[0mouts\u001b[0m\u001b[1;33m]\u001b[0m\u001b[1;33m\u001b[0m\u001b[0m\n",
      "\u001b[1;32mC:\\ProgramData\\Anaconda3\\lib\\site-packages\\tensorflow\\python\\keras\\backend.py\u001b[0m in \u001b[0;36m__call__\u001b[1;34m(self, inputs)\u001b[0m\n\u001b[0;32m   2984\u001b[0m \u001b[1;33m\u001b[0m\u001b[0m\n\u001b[0;32m   2985\u001b[0m     fetched = self._callable_fn(*array_vals,\n\u001b[1;32m-> 2986\u001b[1;33m                                 run_metadata=self.run_metadata)\n\u001b[0m\u001b[0;32m   2987\u001b[0m     \u001b[0mself\u001b[0m\u001b[1;33m.\u001b[0m\u001b[0m_call_fetch_callbacks\u001b[0m\u001b[1;33m(\u001b[0m\u001b[0mfetched\u001b[0m\u001b[1;33m[\u001b[0m\u001b[1;33m-\u001b[0m\u001b[0mlen\u001b[0m\u001b[1;33m(\u001b[0m\u001b[0mself\u001b[0m\u001b[1;33m.\u001b[0m\u001b[0m_fetches\u001b[0m\u001b[1;33m)\u001b[0m\u001b[1;33m:\u001b[0m\u001b[1;33m]\u001b[0m\u001b[1;33m)\u001b[0m\u001b[1;33m\u001b[0m\u001b[0m\n\u001b[0;32m   2988\u001b[0m     \u001b[1;32mreturn\u001b[0m \u001b[0mfetched\u001b[0m\u001b[1;33m[\u001b[0m\u001b[1;33m:\u001b[0m\u001b[0mlen\u001b[0m\u001b[1;33m(\u001b[0m\u001b[0mself\u001b[0m\u001b[1;33m.\u001b[0m\u001b[0moutputs\u001b[0m\u001b[1;33m)\u001b[0m\u001b[1;33m]\u001b[0m\u001b[1;33m\u001b[0m\u001b[0m\n",
      "\u001b[1;32mC:\\ProgramData\\Anaconda3\\lib\\site-packages\\tensorflow\\python\\client\\session.py\u001b[0m in \u001b[0;36m__call__\u001b[1;34m(self, *args, **kwargs)\u001b[0m\n\u001b[0;32m   1437\u001b[0m           ret = tf_session.TF_SessionRunCallable(\n\u001b[0;32m   1438\u001b[0m               \u001b[0mself\u001b[0m\u001b[1;33m.\u001b[0m\u001b[0m_session\u001b[0m\u001b[1;33m.\u001b[0m\u001b[0m_session\u001b[0m\u001b[1;33m,\u001b[0m \u001b[0mself\u001b[0m\u001b[1;33m.\u001b[0m\u001b[0m_handle\u001b[0m\u001b[1;33m,\u001b[0m \u001b[0margs\u001b[0m\u001b[1;33m,\u001b[0m \u001b[0mstatus\u001b[0m\u001b[1;33m,\u001b[0m\u001b[1;33m\u001b[0m\u001b[0m\n\u001b[1;32m-> 1439\u001b[1;33m               run_metadata_ptr)\n\u001b[0m\u001b[0;32m   1440\u001b[0m         \u001b[1;32mif\u001b[0m \u001b[0mrun_metadata\u001b[0m\u001b[1;33m:\u001b[0m\u001b[1;33m\u001b[0m\u001b[0m\n\u001b[0;32m   1441\u001b[0m           \u001b[0mproto_data\u001b[0m \u001b[1;33m=\u001b[0m \u001b[0mtf_session\u001b[0m\u001b[1;33m.\u001b[0m\u001b[0mTF_GetBuffer\u001b[0m\u001b[1;33m(\u001b[0m\u001b[0mrun_metadata_ptr\u001b[0m\u001b[1;33m)\u001b[0m\u001b[1;33m\u001b[0m\u001b[0m\n",
      "\u001b[1;31mKeyboardInterrupt\u001b[0m: "
     ]
    }
   ],
   "source": [
    "print('Train...')\n",
    "#Trains model for 50 epochs with shuffling after every epoch for training data and validates on validation data\n",
    "history = model.fit(X_train, y_train, \n",
    "          batch_size=batch_size, \n",
    "          shuffle=True, \n",
    "          epochs=50,\n",
    "          validation_data=(X_valid, y_valid))"
   ]
  },
  {
   "cell_type": "code",
   "execution_count": 30,
   "metadata": {},
   "outputs": [
    {
     "data": {
      "image/png": "[encoded data removed]",
      "text/plain": [
       "<Figure size 432x288 with 1 Axes>"
      ]
     },
     "metadata": {},
     "output_type": "display_data"
    },
    {
     "data": {
      "text/plain": [
       "<Figure size 432x288 with 0 Axes>"
      ]
     },
     "metadata": {},
     "output_type": "display_data"
    },
    {
     "data": {
      "image/png": "[encoded data removed]",
      "text/plain": [
       "<Figure size 432x288 with 1 Axes>"
      ]
     },
     "metadata": {},
     "output_type": "display_data"
    }
   ],
   "source": [
    "import matplotlib.pyplot as plt\n",
    "train_acc = history.history['acc']\n",
    "train_loss = history.history['loss']\n",
    "val_acc = history.history['val_acc']\n",
    "val_loss = history.history['val_loss']\n",
    "\n",
    "epochs = range(len(train_acc)) \n",
    "plt.plot(epochs, train_acc, 'b', label='Training Accuracy')\n",
    "plt.plot(epochs, val_acc, 'r', label='Validation Accuracy')\n",
    "plt.title('Training and Validation Accuracy')\n",
    "plt.legend()\n",
    "plt.figure()\n",
    "plt.show()\n",
    "\n",
    "plt.plot(epochs, train_loss, 'b', label='Training Loss')\n",
    "plt.plot(epochs, val_loss, 'r', label='Validation Loss')\n",
    "plt.title('Training and Validation Loss')\n",
    "plt.legend()\n",
    "plt.show()"
   ]
  },
  {
   "cell_type": "code",
   "execution_count": 72,
   "metadata": {
    "colab": {
     "base_uri": "https://localhost:8080/",
     "height": 67
    },
    "id": "cMA0kTPu1KPy",
    "outputId": "05fdfcdc-89f0-4f24-88ca-4740bd922b29"
   },
   "outputs": [
    {
     "name": "stdout",
     "output_type": "stream",
     "text": [
      "776/776 [==============================] - 4s 5ms/step\n",
      "Test score: 1.620089307273786\n",
      "Test accuracy: 0.6378865979381443\n"
     ]
    }
   ],
   "source": [
    "y_tst = y_test\n",
    "y_test = np_utils.to_categorical(y_test, numclasses)\n",
    "# Evaluate the accuracies\n",
    "score, acc = model.evaluate(X_test, y_test, batch_size=batch_size)\n",
    "print('Test score:', score)\n",
    "print('Test accuracy:', acc)"
   ]
  },
  {
   "cell_type": "code",
   "execution_count": 74,
   "metadata": {
    "collapsed": true
   },
   "outputs": [
    {
     "data": {
      "text/plain": [
       "array([1, 2, 2, 2, 2, 2, 1, 2, 2, 1, 1, 2, 1, 0, 1, 2, 2, 1, 1, 1, 2, 0,\n",
       "       1, 0, 2, 1, 1, 1, 1, 1, 1, 0, 2, 1, 1, 1, 2, 1, 2, 1, 2, 2, 2, 1,\n",
       "       2, 1, 1, 1, 2, 2, 2, 2, 1, 1, 2, 2, 1, 2, 0, 0, 0, 1, 0, 1, 1, 1,\n",
       "       1, 1, 1, 1, 0, 1, 0, 2, 1, 1, 1, 2, 1, 1, 1, 0, 1, 0, 2, 2, 1, 1,\n",
       "       0, 2, 1, 1, 1, 1, 1, 2, 2, 1, 2, 1, 1, 2, 1, 2, 1, 1, 1, 2, 2, 1,\n",
       "       2, 2, 2, 1, 1, 1, 1, 2, 2, 2, 1, 2, 2, 1, 2, 1, 0, 1, 1, 2, 1, 1,\n",
       "       1, 2, 1, 1, 1, 2, 1, 2, 2, 1, 2, 1, 2, 1, 1, 1, 2, 2, 2, 1, 0, 0,\n",
       "       1, 2, 2, 0, 0, 2, 0, 1, 1, 2, 2, 0, 0, 0, 0, 2, 2, 0, 1, 1, 1, 1,\n",
       "       2, 0, 2, 2, 1, 0, 1, 0, 1, 1, 0, 2, 1, 2, 1, 1, 1, 1, 2, 1, 1, 2,\n",
       "       2, 0, 1, 1, 1, 1, 2, 2, 2, 1, 0, 1, 0, 1, 1, 0, 1, 1, 1, 2, 0, 2,\n",
       "       2, 2, 2, 0, 0, 1, 1, 1, 2, 2, 0, 1, 0, 2, 2, 1, 2, 1, 0, 1, 0, 2,\n",
       "       1, 2, 1, 2, 2, 1, 1, 2, 1, 1, 2, 2, 1, 1, 1, 2, 2, 2, 1, 2, 2, 1,\n",
       "       0, 1, 0, 1, 2, 0, 1, 1, 1, 2, 1, 2, 1, 2, 1, 0, 1, 1, 2, 2, 2, 2,\n",
       "       2, 2, 1, 1, 1, 1, 2, 1, 0, 1, 0, 1, 1, 2, 2, 1, 1, 2, 0, 1, 1, 1,\n",
       "       2, 2, 2, 1, 1, 1, 1, 1, 2, 1, 2, 0, 1, 2, 2, 2, 1, 1, 1, 1, 1, 1,\n",
       "       1, 1, 0, 2, 2, 1, 1, 0, 1, 2, 1, 1, 1, 0, 1, 1, 1, 2, 2, 2, 1, 1,\n",
       "       2, 2, 1, 0, 0, 0, 1, 0, 1, 1, 0, 0, 2, 0, 2, 1, 2, 2, 1, 2, 1, 1,\n",
       "       0, 2, 1, 0, 2, 1, 1, 0, 1, 1, 0, 1, 0, 0, 2, 0, 2, 1, 1, 2, 2, 2,\n",
       "       1, 1, 2, 2, 1, 0, 1, 2, 2, 2, 2, 0, 0, 1, 1, 2, 2, 0, 1, 2, 2, 0,\n",
       "       1, 1, 2, 1, 2, 1, 1, 2, 2, 1, 1, 1, 2, 1, 2, 1, 1, 2, 2, 2, 1, 1,\n",
       "       2, 1, 1, 0, 1, 1, 0, 2, 1, 1, 1, 2, 0, 2, 1, 0, 1, 2, 2, 1, 0, 1,\n",
       "       1, 1, 1, 0, 1, 0, 2, 1, 0, 1, 1, 1, 1, 1, 0, 1, 2, 1, 1, 2, 1, 1,\n",
       "       1, 2, 1, 2, 1, 2, 1, 0, 2, 2, 0, 0, 2, 2, 0, 1, 1, 1, 2, 2, 1, 0,\n",
       "       2, 1, 1, 1, 1, 1, 2, 1, 2, 0, 2, 2, 1, 1, 2, 2, 0, 1, 1, 2, 0, 1,\n",
       "       2, 1, 1, 1, 1, 1, 1, 1, 1, 0, 1, 0, 1, 1, 1, 1, 2, 1, 1, 2, 1, 2,\n",
       "       2, 1, 1, 1, 2, 1, 1, 1, 1, 1, 1, 0, 2, 2, 1, 2, 1, 1, 1, 2, 1, 2,\n",
       "       0, 2, 1, 2, 1, 2, 1, 1, 2, 1, 0, 0, 2, 1, 2, 1, 1, 1, 2, 1, 1, 1,\n",
       "       1, 1, 1, 1, 1, 1, 0, 2, 1, 2, 1, 1, 1, 1, 1, 1, 1, 1, 1, 2, 2, 2,\n",
       "       1, 2, 0, 2, 1, 2, 2, 2, 1, 2, 2, 1, 1, 1, 2, 0, 1, 0, 2, 1, 1, 1,\n",
       "       1, 0, 1, 1, 1, 2, 0, 1, 2, 2, 2, 2, 0, 1, 1, 1, 2, 1, 0, 2, 1, 1,\n",
       "       1, 1, 2, 1, 2, 0, 1, 1, 1, 2, 0, 1, 2, 1, 1, 1, 2, 1, 1, 1, 0, 2,\n",
       "       1, 2, 1, 1, 1, 2, 0, 1, 2, 2, 1, 1, 1, 1, 2, 1, 0, 0, 0, 0, 1, 2,\n",
       "       1, 1, 1, 1, 1, 2, 2, 0, 1, 1, 1, 0, 1, 2, 1, 0, 1, 2, 2, 1, 2, 2,\n",
       "       1, 2, 1, 0, 1, 2, 2, 2, 0, 1, 2, 2, 1, 2, 1, 1, 2, 1, 2, 0, 2, 2,\n",
       "       2, 2, 2, 0, 1, 1, 1, 1, 1, 2, 2, 1, 2, 1, 1, 1, 0, 2, 2, 1, 1, 1,\n",
       "       2, 1, 1, 2, 2, 2])"
      ]
     },
     "execution_count": 74,
     "metadata": {},
     "output_type": "execute_result"
    }
   ],
   "source": [
    "y_tst"
   ]
  },
  {
   "cell_type": "code",
   "execution_count": 46,
   "metadata": {
    "id": "zjoU8Z9kkDeA"
   },
   "outputs": [],
   "source": [
    "y_pred=model.predict(X_test)"
   ]
  },
  {
   "cell_type": "code",
   "execution_count": 50,
   "metadata": {},
   "outputs": [
    {
     "data": {
      "text/plain": [
       "array([[4.3736594e-03, 9.9531931e-01, 3.0705507e-04],\n",
       "       [4.1909602e-01, 5.7275474e-01, 8.1492588e-03],\n",
       "       [1.4753165e-04, 9.8097777e-01, 1.8874591e-02],\n",
       "       ...,\n",
       "       [2.7802569e-04, 9.9964964e-01, 7.2343100e-05],\n",
       "       [4.2136555e-05, 9.9896252e-01, 9.9532458e-04],\n",
       "       [7.4907956e-03, 3.1911328e-03, 9.8931807e-01]], dtype=float32)"
      ]
     },
     "execution_count": 50,
     "metadata": {},
     "output_type": "execute_result"
    }
   ],
   "source": [
    "y_pred"
   ]
  },
  {
   "cell_type": "code",
   "execution_count": 55,
   "metadata": {
    "colab": {
     "base_uri": "https://localhost:8080/",
     "height": 87
    },
    "collapsed": true,
    "id": "yVwpdwWtrFGl",
    "outputId": "cdd3c5b1-1000-438f-f614-36e86c9b7098"
   },
   "outputs": [
    {
     "data": {
      "text/plain": [
       "array([1, 1, 1, 1, 2, 2, 0, 2, 1, 1, 2, 2, 2, 0, 1, 2, 1, 1, 2, 1, 0, 0,\n",
       "       2, 0, 1, 1, 1, 1, 1, 1, 1, 1, 1, 1, 1, 1, 1, 1, 2, 2, 2, 2, 2, 2,\n",
       "       2, 1, 2, 2, 1, 2, 1, 1, 2, 2, 1, 2, 2, 2, 1, 0, 1, 1, 0, 1, 1, 1,\n",
       "       2, 2, 2, 1, 0, 1, 2, 1, 1, 0, 1, 2, 1, 1, 1, 1, 1, 2, 2, 0, 1, 1,\n",
       "       2, 2, 1, 1, 1, 1, 1, 2, 1, 2, 2, 1, 2, 0, 1, 2, 1, 1, 0, 2, 0, 1,\n",
       "       2, 2, 1, 2, 1, 0, 1, 1, 2, 1, 1, 1, 2, 2, 2, 1, 2, 1, 2, 2, 1, 2,\n",
       "       1, 1, 1, 1, 1, 1, 1, 2, 1, 1, 0, 0, 2, 1, 1, 1, 1, 1, 2, 1, 1, 2,\n",
       "       1, 1, 2, 0, 0, 2, 0, 1, 1, 2, 2, 0, 0, 0, 1, 2, 2, 0, 1, 1, 2, 1,\n",
       "       2, 0, 1, 1, 1, 0, 1, 0, 2, 1, 0, 1, 1, 1, 1, 0, 1, 2, 2, 1, 1, 2,\n",
       "       2, 0, 1, 1, 2, 1, 2, 2, 1, 1, 0, 2, 1, 1, 2, 0, 1, 1, 2, 2, 0, 2,\n",
       "       0, 1, 1, 0, 2, 1, 1, 1, 2, 2, 1, 1, 0, 1, 2, 1, 2, 1, 0, 1, 0, 2,\n",
       "       1, 2, 1, 0, 2, 1, 2, 2, 1, 1, 2, 2, 1, 0, 1, 1, 0, 1, 2, 2, 0, 1,\n",
       "       1, 2, 1, 0, 2, 2, 1, 1, 1, 2, 1, 1, 0, 2, 1, 0, 1, 1, 2, 1, 0, 2,\n",
       "       2, 2, 1, 1, 2, 1, 2, 1, 1, 1, 1, 1, 0, 1, 1, 1, 1, 2, 1, 1, 1, 2,\n",
       "       2, 1, 0, 1, 0, 1, 0, 0, 2, 1, 2, 1, 1, 1, 0, 2, 1, 1, 1, 1, 1, 2,\n",
       "       1, 1, 2, 1, 2, 1, 1, 0, 2, 1, 1, 1, 1, 0, 1, 1, 2, 2, 2, 2, 2, 1,\n",
       "       1, 1, 1, 1, 1, 1, 1, 1, 1, 1, 0, 0, 2, 1, 2, 1, 1, 0, 1, 2, 1, 1,\n",
       "       0, 2, 1, 1, 2, 1, 1, 0, 2, 1, 2, 1, 1, 0, 2, 1, 1, 1, 2, 2, 1, 2,\n",
       "       1, 1, 2, 2, 1, 0, 1, 2, 2, 1, 2, 0, 0, 0, 1, 2, 1, 0, 1, 1, 2, 2,\n",
       "       1, 2, 0, 1, 2, 1, 1, 2, 2, 2, 1, 1, 1, 1, 2, 2, 0, 1, 0, 2, 1, 1,\n",
       "       2, 2, 0, 0, 1, 0, 1, 2, 1, 1, 0, 2, 0, 2, 1, 0, 0, 2, 2, 2, 0, 1,\n",
       "       1, 1, 1, 0, 1, 1, 2, 1, 2, 0, 1, 1, 0, 1, 0, 2, 1, 1, 1, 1, 1, 0,\n",
       "       1, 2, 1, 1, 0, 2, 2, 1, 1, 2, 2, 0, 2, 2, 1, 2, 1, 2, 1, 2, 1, 0,\n",
       "       2, 2, 1, 2, 1, 1, 2, 1, 1, 0, 2, 2, 1, 1, 2, 2, 0, 1, 1, 0, 0, 2,\n",
       "       2, 2, 1, 1, 1, 1, 0, 0, 2, 0, 1, 2, 0, 2, 1, 1, 2, 1, 1, 2, 2, 0,\n",
       "       1, 1, 1, 1, 2, 1, 2, 1, 1, 1, 1, 2, 1, 1, 1, 2, 1, 1, 2, 1, 1, 2,\n",
       "       0, 2, 2, 2, 1, 2, 1, 1, 0, 1, 0, 0, 1, 1, 1, 1, 2, 0, 2, 1, 1, 1,\n",
       "       1, 1, 2, 1, 1, 1, 0, 2, 1, 1, 1, 2, 1, 0, 1, 1, 2, 1, 1, 2, 2, 2,\n",
       "       1, 1, 0, 1, 1, 0, 2, 2, 1, 1, 2, 1, 1, 2, 0, 1, 1, 2, 2, 1, 1, 1,\n",
       "       2, 2, 1, 1, 1, 2, 1, 2, 2, 2, 1, 2, 1, 1, 1, 1, 1, 2, 1, 1, 1, 1,\n",
       "       1, 1, 2, 1, 1, 1, 1, 1, 1, 1, 1, 2, 2, 1, 1, 1, 1, 1, 2, 2, 0, 2,\n",
       "       1, 2, 1, 2, 1, 1, 1, 1, 1, 1, 1, 1, 1, 2, 0, 2, 1, 2, 0, 1, 2, 1,\n",
       "       0, 1, 1, 2, 1, 2, 2, 0, 1, 1, 1, 2, 0, 2, 0, 2, 1, 1, 2, 1, 1, 2,\n",
       "       1, 1, 1, 2, 2, 2, 1, 2, 1, 1, 1, 2, 1, 2, 0, 1, 2, 2, 1, 1, 0, 2,\n",
       "       2, 1, 2, 1, 1, 1, 1, 2, 1, 2, 1, 1, 2, 2, 1, 0, 1, 2, 1, 1, 1, 1,\n",
       "       2, 2, 1, 1, 1, 2], dtype=int64)"
      ]
     },
     "execution_count": 55,
     "metadata": {},
     "output_type": "execute_result"
    }
   ],
   "source": [
    "y_pred1=model.predict_classes(X_test)\n",
    "y_pred1"
   ]
  },
  {
   "cell_type": "code",
   "execution_count": 76,
   "metadata": {},
   "outputs": [
    {
     "data": {
      "text/plain": [
       "array([[False,  True, False],\n",
       "       [False,  True, False],\n",
       "       [False,  True, False],\n",
       "       ...,\n",
       "       [False,  True, False],\n",
       "       [False,  True, False],\n",
       "       [False, False,  True]])"
      ]
     },
     "execution_count": 76,
     "metadata": {},
     "output_type": "execute_result"
    }
   ],
   "source": [
    "# y_pred = model.predict(X_test)\n",
    "prediction = (y_pred > 0.5)\n",
    "prediction"
   ]
  },
  {
   "cell_type": "code",
   "execution_count": 75,
   "metadata": {},
   "outputs": [
    {
     "name": "stdout",
     "output_type": "stream",
     "text": [
      "             precision    recall  f1-score   support\n",
      "\n",
      "          0       0.51      0.49      0.50       116\n",
      "          1       0.69      0.72      0.70       395\n",
      "          2       0.61      0.58      0.60       265\n",
      "\n",
      "avg / total       0.64      0.64      0.64       776\n",
      "\n"
     ]
    },
    {
     "data": {
      "image/png": "[encoded data removed]",
      "text/plain": [
       "<Figure size 360x360 with 2 Axes>"
      ]
     },
     "metadata": {
      "image/png": {
       "height": 331,
       "width": 321
      }
     },
     "output_type": "display_data"
    }
   ],
   "source": [
    "import numpy as np\n",
    "import matplotlib as mpl\n",
    "import matplotlib.pyplot as plt\n",
    "import seaborn as sns\n",
    "from sklearn.metrics import (classification_report,\n",
    "                             confusion_matrix,\n",
    "                             roc_auc_score)\n",
    "%matplotlib inline\n",
    "%config InlineBackend.figure_format = 'retina'\n",
    "\n",
    "report = classification_report(y_test, prediction)\n",
    "print(report)\n",
    "\n",
    "\n",
    "def plot_cm(labels, predictions, p=0.5):\n",
    "    cm = confusion_matrix(labels, predictions)\n",
    "    plt.figure(figsize=(5, 5))\n",
    "    sns.heatmap(cm, annot=True, fmt=\"d\")\n",
    "    plt.title(\"Confusion matrix (non-normalized))\")\n",
    "    plt.ylabel(\"Actual label\")\n",
    "    plt.xlabel(\"Predicted label\")\n",
    "\n",
    "\n",
    "plot_cm(y_tst, y_pred1)"
   ]
  },
  {
   "cell_type": "code",
   "execution_count": null,
   "metadata": {
    "id": "d5tTWt4-r8gL"
   },
   "outputs": [],
   "source": []
  }
 ],
 "metadata": {
  "colab": {
   "name": "sublstm.ipynb",
   "provenance": []
  },
  "kernelspec": {
   "display_name": "Python 3",
   "language": "python",
   "name": "python3"
  }
 },
 "nbformat": 4,
 "nbformat_minor": 1
}
